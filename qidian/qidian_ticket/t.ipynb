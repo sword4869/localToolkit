{
 "cells": [
  {
   "cell_type": "code",
   "execution_count": 1,
   "metadata": {},
   "outputs": [],
   "source": [
    "import imaplib , email , os"
   ]
  },
  {
   "cell_type": "code",
   "execution_count": 8,
   "metadata": {},
   "outputs": [],
   "source": [
    "server_host = 'imap.163.com'\n",
    "port_SSL = 993\n",
    "username = 'sandal33s@163.com'\n",
    "password = 'LJJFBAQEMNUCEAIZ'"
   ]
  },
  {
   "cell_type": "code",
   "execution_count": 9,
   "metadata": {},
   "outputs": [
    {
     "data": {
      "text/plain": [
       "('OK',\n",
       " [b'() \"/\" \"INBOX\"',\n",
       "  b'(\\\\Drafts) \"/\" \"&g0l6P3ux-\"',\n",
       "  b'(\\\\Sent) \"/\" \"&XfJT0ZAB-\"',\n",
       "  b'(\\\\Trash) \"/\" \"&XfJSIJZk-\"',\n",
       "  b'(\\\\Junk) \"/\" \"&V4NXPpCuTvY-\"',\n",
       "  b'() \"/\" \"&dcVr0mWHTvZZOQ-\"',\n",
       "  b'() \"/\" \"&Xn9USpCuTvY-\"',\n",
       "  b'() \"/\" \"&i6KWBZCuTvY-\"'])"
      ]
     },
     "execution_count": 9,
     "metadata": {},
     "output_type": "execute_result"
    }
   ],
   "source": [
    "imap = imaplib.IMAP4_SSL(server_host, port_SSL)\n",
    "imap.login(username, password)\n",
    "\n",
    "imap.list()     #列出邮箱中所有的列表，如：收件箱、垃圾箱、草稿箱。。。"
   ]
  },
  {
   "cell_type": "code",
   "execution_count": 13,
   "metadata": {},
   "outputs": [],
   "source": [
    "imap_id = (\"name\", \"XXXX\", \"contact\", \"XXXX@163.com\", \"version\", \"1.0.0\", \"vendor\", \"myclient\")\n",
    "typ, data = imap.xatom('ID', '(\"' + '\" \"'.join(imap_id) + '\")')"
   ]
  },
  {
   "cell_type": "code",
   "execution_count": 15,
   "metadata": {},
   "outputs": [
    {
     "data": {
      "text/plain": [
       "('OK', [b'1 2'])"
      ]
     },
     "execution_count": 15,
     "metadata": {},
     "output_type": "execute_result"
    }
   ],
   "source": [
    "# imap.select()           # 选择收件箱（默认）,imap.select('INBOX')\n",
    "imap.select('&XfJT0ZAB-')    # 选择发件箱\n",
    "typ, dat = imap.search(None, 'ALL')\n",
    "typ, dat"
   ]
  },
  {
   "cell_type": "code",
   "execution_count": 16,
   "metadata": {},
   "outputs": [
    {
     "name": "stdout",
     "output_type": "stream",
     "text": [
      "b'1'\n",
      "b'Received: from [172.17.107.65] (unknown [110.182.96.254])\\r\\n\\tby smtp20 (Coremail) with SMTP id H91pCgA3rJHgOtZj5+V4CA--.21718S2;\\r\\n\\tSun, 29 Jan 2023 17:22:42 +0800 (CST)\\r\\nContent-Type: text/plain; charset=\"utf-8\"\\r\\nMIME-Version: 1.0\\r\\nContent-Transfer-Encoding: base64\\r\\nFrom: =?utf-8?b?5Y+R5Lu25Lq66YKu566x5pi156ew?=\\r\\nTo: =?utf-8?b?5pS25Lu25Lq66YKu566x5pi156ew?=\\r\\nSubject: =?utf-8?b?5Li76aKY?=\\r\\nX-CM-TRANSID:H91pCgA3rJHgOtZj5+V4CA--.21718S2\\r\\nMessage-Id:<63D63AE2.0EBB6C.25340@m12.mail.163.com>\\r\\nX-Coremail-Antispam: 1Uf129KBjDUn29KB7ZKAUJUUUUU529EdanIXcx71UUUUU7v73\\r\\n\\tVFW2AGmfu7bjvjm3AaLaJ3UbIYCTnIWIevJa73UjIFyTuYvjxU2MmhDUUUU\\r\\nX-Originating-IP: [110.182.96.254]\\r\\nDate: Sun, 29 Jan 2023 17:22:42 +0800 (CST)\\r\\nSender: sandal33s@163.com\\r\\n\\r\\nUHl0aG9uIOmCruS7tuWPkemAgea1i+ivlS4uLg==\\r\\n'\n"
     ]
    }
   ],
   "source": [
    "for num in dat[0].split():\n",
    "    typ, dat = imap.fetch(num, '(RFC822)')\n",
    "    msg = email.message_from_string(data[0][1].decode(\"utf-8\"))#用email库获取解析数据\n",
    "    msgCharset = email.header.decode_header(msg.get('Subject'))[0][1]#获取邮件标题并进行进行解码，通过返回的元组的第一个元素我们得知消息的编码\n",
    "    msg1=email.header.decode_header(msg.get('Subject'))[0][0].decode(msgCharset)#获取标题并通过标题进行解码\n",
    "    print(\"Message %s\\n%s\\n\"%(num,msg1))#打印输出标题"
   ]
  },
  {
   "cell_type": "code",
   "execution_count": 17,
   "metadata": {},
   "outputs": [
    {
     "data": {
      "text/plain": [
       "('BYE', [b'IMAP4rev1 Server logging out'])"
      ]
     },
     "execution_count": 17,
     "metadata": {},
     "output_type": "execute_result"
    }
   ],
   "source": [
    "imap.close()\n",
    "imap.logout()"
   ]
  },
  {
   "cell_type": "code",
   "execution_count": 22,
   "metadata": {},
   "outputs": [],
   "source": [
    "from imapclient import IMAPClient\n",
    "import email"
   ]
  },
  {
   "cell_type": "code",
   "execution_count": 62,
   "metadata": {},
   "outputs": [
    {
     "data": {
      "text/plain": [
       "{b'PERMANENTFLAGS': (b'\\\\Answered',\n",
       "  b'\\\\Seen',\n",
       "  b'\\\\Deleted',\n",
       "  b'\\\\Draft',\n",
       "  b'\\\\Flagged'),\n",
       " b'EXISTS': 3,\n",
       " b'RECENT': 0,\n",
       " b'UIDVALIDITY': 1,\n",
       " b'FLAGS': (b'\\\\Answered', b'\\\\Seen', b'\\\\Deleted', b'\\\\Draft', b'\\\\Flagged'),\n",
       " b'READ-WRITE': True}"
      ]
     },
     "execution_count": 62,
     "metadata": {},
     "output_type": "execute_result"
    }
   ],
   "source": [
    "\n",
    "\n",
    "server_host = 'imap.163.com'\n",
    "username = 'sandal33s@163.com'\n",
    "password = 'LJJFBAQEMNUCEAIZ'\n",
    "\n",
    "server = IMAPClient(server_host)\n",
    "server.login(username, password)\n",
    "server.id_({\"name\": \"IMAPClient\", \"version\": \"2.1.0\"})\n",
    "server.select_folder('INBOX')"
   ]
  },
  {
   "cell_type": "code",
   "execution_count": 78,
   "metadata": {},
   "outputs": [
    {
     "name": "stdout",
     "output_type": "stream",
     "text": [
      "over\n"
     ]
    }
   ],
   "source": [
    "try:\n",
    "    messages = server.search(\"UNSEEN\")\n",
    "except ConnectionAbortedError as e:\n",
    "    print('over')\n",
    "except IMAPClient.Error as e:\n",
    "    print('chao')"
   ]
  },
  {
   "cell_type": "code",
   "execution_count": 67,
   "metadata": {},
   "outputs": [],
   "source": [
    "mesages = [1645681084]"
   ]
  },
  {
   "cell_type": "code",
   "execution_count": 70,
   "metadata": {},
   "outputs": [
    {
     "name": "stdout",
     "output_type": "stream",
     "text": [
      "1645681086\n",
      "[('Received', 'from sandal33s$163.com ( [110.182.96.254] ) by\\r\\n ajax-webmail-wmsvr10 (Coremail) ; Sun, 29 Jan 2023 18:49:42 +0800\\r\\n (GMT+08:00)'), ('X-Originating-IP', '[110.182.96.254]'), ('Date', 'Sun, 29 Jan 2023 18:49:42 +0800 (GMT+08:00)'), ('From', '=?GBK?B?1cXP/sSt?= <sandal33s@163.com>'), ('To', '\"sandal33s@163.com\" <sandal33s@163.com>'), ('Subject', '=?GBK?B?16q3oqO6NDQ0?='), ('X-Priority', '3'), ('X-Mailer', 'Coremail Webmail Server Version XT5.0.13 build 20210622(1d4788a8)\\r\\n MailMasterAndroid/7.12.1_(11) Copyright (c) 2002-2023 www.mailtech.cn\\r\\n 163com'), ('X-NTES-SC', 'AL_QuycBvWTtksj5CeaY+kWmksSgu0+Wsq4s/Ug3odROp80vSnX9jE4XG1TJ1vKzt6RASapogqZTBFk19RoYaRWe7+wvWHkK0i+GSkglScbvN2c'), ('Content-Type', 'multipart/alternative; \\r\\n\\tboundary=\"----=_Part_53134_195693724.1674989382728\"'), ('MIME-Version', '1.0'), ('Message-ID', '<13f391f4.465b.185fd25ac48.Coremail.sandal33s@163.com>'), ('X-Coremail-Locale', 'zh_CN'), ('X-CM-TRANSID', 'CsGowAAndupGT9Zj_2IEAA--.44002W'), ('X-CM-SenderInfo', 'xvdqvtjott2qqrwthudrp/1tbiWwsGLWI0X8pdywABsv'), ('X-Coremail-Antispam', '1U5529EdanIXcx71UUUUU7vcSsGvfC2KfnxnUU==')]\n",
      "None\n",
      "[<email.message.Message object at 0x0000015C2BC44D60>, <email.message.Message object at 0x0000015C2BC44A60>]\n",
      "== Email message =====\n",
      "== Email details =====\n",
      "Subject: =?GBK?B?16q3oqO6NDQ0?=\n",
      "From: =?GBK?B?1cXP/sSt?= <sandal33s@163.com>\n",
      "To: \"sandal33s@163.com\" <sandal33s@163.com>\n",
      "Cc: None\n",
      "Bcc: None\n",
      "Urgency (1 highest 5 lowest): 3\n",
      "Object type: <class 'email.message.Message'>\n",
      "Content type: multipart/alternative\n",
      "Content disposition: None\n",
      "Multipart?: True\n",
      "Multipart types:\n",
      "- multipart/alternative\n",
      "- text/plain\n",
      "- text/html\n",
      "text/plain\n",
      "Payload\n",
      "b'---- \\xd7\\xaa\\xb7\\xa2\\xb5\\xc4\\xd3\\xca\\xbc\\xfe ----\\n| \\xb7\\xa2\\xbc\\xfe\\xc8\\xcb | \\xd5\\xc5\\xcf\\xfe\\xc4\\xad<sandal33s@163.com> |\\n| \\xc8\\xd5\\xc6\\xda | 2023\\xc4\\xea01\\xd4\\xc229\\xc8\\xd5 18:46 |\\n| \\xca\\xd5\\xbc\\xfe\\xc8\\xcb | sandal33s@163.com |\\n| \\xb3\\xad\\xcb\\xcd\\xd6\\xc1 | |\\n| \\xd6\\xf7\\xcc\\xe2 | 444 |\\nGET /Atom.axd/Api/HongBao/GetSquare?lastHongbaoId=0&pn=1&pz=20&type=1 HTTP/1.1\\nQDSign: R7TCs6Tou2VE42aWFnke2cv9rGFYzMfyqRhXvoBUHWQrJn4fIRb9C1HN01mq VlRYJc3vTcwY4+4kk1iaCXhHYUODhks0dMhdrYFxts5tBMhylkNr1RKDkYRv zB89e2U2FOdZhAyUeO+CsvSX6wEIDkcfWbJz2X+U5UtBuxMHR/XLGiiYABgv LGc55lrvaFm63+/kNp4WWh4=\\nborgus: 25e1d437f8d2d114962649330f50ae06\\ntstamp: 1674987349483\\nQDInfo: 6JopQVMlApWCQKIyEIM/sqWTTghkgQgMl3NDGmeZtr6I75X1QN0BYrGDF2Vtwl36vldl0NxNjvGyHJ9evuJteBV3v+i2FcrCEFH7gIbBuE4+yyFxnwYlRMjguKijIK6xYdZkpARfev0H3Pg0+jVVxzTF2Q1JNRanrNvh/YgbwchXa7we69bedsyREK0z6UxpE1nS5P0y9x9fWsv+lorkTjFh+wZnLdSnFVGDlrFnI4a0Owmxy0jHeiWwb9cXnrc+kGRSBe1ca/FNC58dL4W9uxk2xL/uOwigD0CNyAjHRz2BQLsUHKDZerJtbhQJ0Zp1AiLNsjnuYcaiR1awfUgakSJaT0rzEUXkiyW5uKMQTeyqhIoeXqhNkQ==\\nUser-Agent: Mozilla/mobile QDReaderAndroid/7.9.266/860/1000015\\nCookie: ywkey=ywJv1FFY8PYn; ywguid=1084662708; appId=12; areaId=30; lang=cn; mode=normal; bar=107; qid=ce3c5be751df9d158efdab99100010516217; newstatisticUUID=b4dc1b7b-fbf2-4ac7-b01b-a873540c6e24; _csrfToken=fQPi6Zp46Vi0xahfiqhH04KYVKTpoX7U3Eq8916F; fu=203759461; hiijack=0; _ga=GA1.2.956693578.1674806050; _ga_VMQL7235X0=GS1.1.1674806050.1.0.1674806051.0.0.0; _ga_D20NXNVDG2=GS1.1.1674806050.1.0.1674806051.0.0.0; e2=; e1=%7B%22pid%22%3A%22mqd_P_yueli%22%2C%22eid%22%3A%22%22%7D; cmfuToken=N((l2n8KFg-RZwk2WfIvHAevakecRvU0Mm9r2C40Cw6m42FLtS4TYDXRoCebTmUF90tgJDL3VqYcE6BiAjXrB-8AmyTunfgPXJhLk6O35ubLfOFyt9fs_10p6rQ5AC_VB8BOmnoHxnmpX8AsUmZi-effiVGCHkHq_XsysyFFD9cRBRd_dsR_koNmky5y7Tt5dHF1CzUVoBje2bq4dgelUg9a-usofunSmBxxShvra9NPTeSsR5HuO74pB62zTu-WRPRsNjC3XPeMYZyNO5AyTzQLw2; QDInfo=6JopQVMlApWCQKIyEIM/sqWTTghkgQgMl3NDGmeZtr6I75X1QN0BYrGDF2Vtwl36vldl0NxNjvGyHJ9evuJteBV3v+i2FcrCEFH7gIbBuE4+yyFxnwYlRMjguKijIK6xYdZkpARfev0H3Pg0+jVVx8nm5vnhKx56AyPByjvAcfe4R/ZvXtZwxjReQlnD056YUmahO7yoV5YLxorSjq7gEOgELy4zcHElRFvmRtc60xY25MTJQQjbIlNLZmVy6T+qZSK7jnu2Nup23z3/QjRxq3NVI7IV7teFrm3VJ7GK7EOZhLrrwK+lgUSzEvtvZGGUQPDZaUFyP2bDuI48TYNhNU9OErTCKbPjQW0Cgv7IMbuRWkbXgMl9pw==\\ngorgon: 0mV3PHlqJvBhPmX4Hgwk5dIdaxivdStV_DXpeuJlTytC8dTcppnb8zZTEx2bTrgNjPzi9rK4BfKA4UbePFgCLXgOSGNRj2kpKJVU0jDMk9-u8_f1RedwfYgJKDbZAc-8Wy1uuTribGLs4dZlsGw2RTiYsO921uj-5FJ_0YI740HqCbEEEnDcHT_5_SiRIsjtZDc4NDM5MWJmNDI0YjRhMTk5ZjRkNDU1MjBkYjMxOTM=\\nHost: druidv6.if.qidian.com\\nConnection: Keep-Alive\\nAccept-Encoding: gzip\\nIf-Modified-Since: Sun, 29 Jan 2023 10:15:46 GMT\\n\\n\\n\\n\\n'\n",
      "text/html\n",
      "Payload\n",
      "b'<div class=\"ntes-mailmaster-quote\" style=\"padding-top: 1px; padding-bottom: 1px\">\\n    <div style=\" margin-top: 20px; margin-bottom: 12px; font-size: 14px; line-height: 1.25; color: #89898c; \">---- \\xd7\\xaa\\xb7\\xa2\\xb5\\xc4\\xd3\\xca\\xbc\\xfe ----</div>\\n    <div style=\" margin-bottom: 12px; font-size: 13px; line-height: 1.25; color: #2c2c2e; padding: 2px; border-radius: 8px; background-color: #f0f0f0; \">\\n        <table width=\"100%\" cellpadding=\"0\" cellspacing=\"10\" border=\"0\">\\n            <tr>\\n                <td valign=\"top\" style=\" width: 4em; font-size: 13px; line-height: 1.25; color: #89898c; white-space: nowrap; \">\\xb7\\xa2\\xbc\\xfe\\xc8\\xcb</td>\\n                <td valign=\"top\" style=\" font-size: 13px; line-height: 1.25; color: #2c2c2e; word-break: break-all; \"><a class=\"mail-from\" style=\"color: #1c83eb; text-decoration: none\" href=\"mailto:sandal33s@163.com\">\\xd5\\xc5\\xcf\\xfe\\xc4\\xad&lt;sandal33s@163.com&gt;</a></td>\\n            </tr>\\n            <tr>\\n                <td valign=\"top\" style=\" width: 4em; font-size: 13px; line-height: 1.25; color: #89898c; white-space: nowrap; \">\\xc8\\xd5\\xc6\\xda</td>\\n                <td class=\"mail-date\" valign=\"top\" style=\" font-size: 13px; line-height: 1.25; color: #2c2c2e; word-break: break-all; \">2023\\xc4\\xea01\\xd4\\xc229\\xc8\\xd5 18:46</td>\\n            </tr>\\n            <tr style=\"\">\\n                <td valign=\"top\" style=\" width: 4em; font-size: 13px; line-height: 1.25; color: #89898c; \">\\xca\\xd5\\xbc\\xfe\\xc8\\xcb</td>\\n                <td valign=\"top\" style=\" font-size: 13px; line-height: 1.25; color: #2c2c2e; word-break: break-all; \"><a class=\"mail-to\" style=\"color: #1c83eb; text-decoration: none\" href=\"mailto:sandal33s@163.com\">sandal33s@163.com</a></td>\\n            </tr>\\n            <tr style=\"display:none;\">\\n                <td valign=\"top\" style=\" width: 4em; font-size: 13px; line-height: 1.25; color: #89898c; \">\\xb3\\xad\\xcb\\xcd\\xd6\\xc1</td>\\n                <td valign=\"top\" style=\" font-size: 13px; line-height: 1.25; color: #2c2c2e; word-break: break-all; \"></td>\\n            </tr>\\n            <tr>\\n                <td valign=\"top\" style=\" width: 4em; font-size: 13px; line-height: 1.25; color: #89898c; \">\\xd6\\xf7\\xcc\\xe2</td>\\n                <td class=\"mail-subject\" valign=\"top\" style=\" font-size: 13px; line-height: 1.25; color: #2c2c2e; word-break: break-all; \">444</td>\\n            </tr>\\n        </table>\\n    </div>\\n    <div>GET /<a href=\"Atom.axd/Api/HongBao/GetSquare?lastHongbaoId=0&amp;pn=1&amp;pz=20&amp;type=1\">Atom.axd/Api/HongBao/GetSquare?lastHongbaoId=0&amp;pn=1&amp;pz=20&amp;type=1</a> HTTP/1.1\\n<br>QDSign: R7TCs6Tou2VE42aWFnke2cv9rGFYzMfyqRhXvoBUHWQrJn4fIRb9C1HN01mq VlRYJc3vTcwY4+4kk1iaCXhHYUODhks0dMhdrYFxts5tBMhylkNr1RKDkYRv zB89e2U2FOdZhAyUeO+CsvSX6wEIDkcfWbJz2X+U5UtBuxMHR/XLGiiYABgv LGc55lrvaFm63+/kNp4WWh4=\\n<br>borgus: 25e1d437f8d2d114962649330f50ae06\\n<br>tstamp: 1674987349483\\n<br>QDInfo: 6JopQVMlApWCQKIyEIM/sqWTTghkgQgMl3NDGmeZtr6I75X1QN0BYrGDF2Vtwl36vldl0NxNjvGyHJ9evuJteBV3v+i2FcrCEFH7gIbBuE4+yyFxnwYlRMjguKijIK6xYdZkpARfev0H3Pg0+jVVxzTF2Q1JNRanrNvh/YgbwchXa7we69bedsyREK0z6UxpE1nS5P0y9x9fWsv+lorkTjFh+wZnLdSnFVGDlrFnI4a0Owmxy0jHeiWwb9cXnrc+kGRSBe1ca/FNC58dL4W9uxk2xL/uOwigD0CNyAjHRz2BQLsUHKDZerJtbhQJ0Zp1AiLNsjnuYcaiR1awfUgakSJaT0rzEUXkiyW5uKMQTeyqhIoeXqhNkQ==\\n<br>User-Agent: Mozilla/mobile QDReaderAndroid/7.9.266/860/1000015\\n<br>Cookie: ywkey=ywJv1FFY8PYn; ywguid=1084662708; appId=12; areaId=30; lang=cn; mode=normal; bar=107; qid=ce3c5be751df9d158efdab99100010516217; newstatisticUUID=b4dc1b7b-fbf2-4ac7-b01b-a873540c6e24; _csrfToken=fQPi6Zp46Vi0xahfiqhH04KYVKTpoX7U3Eq8916F; fu=203759461; hiijack=0; _ga=GA1.2.956693578.1674806050; _ga_VMQL7235X0=GS1.1.1674806050.1.0.1674806051.0.0.0; _ga_D20NXNVDG2=GS1.1.1674806050.1.0.1674806051.0.0.0; e2=; e1=%7B%22pid%22%3A%22mqd_P_yueli%22%2C%22eid%22%3A%22%22%7D; cmfuToken=N((l2n8KFg-RZwk2WfIvHAevakecRvU0Mm9r2C40Cw6m42FLtS4TYDXRoCebTmUF90tgJDL3VqYcE6BiAjXrB-8AmyTunfgPXJhLk6O35ubLfOFyt9fs_10p6rQ5AC_VB8BOmnoHxnmpX8AsUmZi-effiVGCHkHq_XsysyFFD9cRBRd_dsR_koNmky5y7Tt5dHF1CzUVoBje2bq4dgelUg9a-usofunSmBxxShvra9NPTeSsR5HuO74pB62zTu-WRPRsNjC3XPeMYZyNO5AyTzQLw2; QDInfo=6JopQVMlApWCQKIyEIM/sqWTTghkgQgMl3NDGmeZtr6I75X1QN0BYrGDF2Vtwl36vldl0NxNjvGyHJ9evuJteBV3v+i2FcrCEFH7gIbBuE4+yyFxnwYlRMjguKijIK6xYdZkpARfev0H3Pg0+jVVx8nm5vnhKx56AyPByjvAcfe4R/ZvXtZwxjReQlnD056YUmahO7yoV5YLxorSjq7gEOgELy4zcHElRFvmRtc60xY25MTJQQjbIlNLZmVy6T+qZSK7jnu2Nup23z3/QjRxq3NVI7IV7teFrm3VJ7GK7EOZhLrrwK+lgUSzEvtvZGGUQPDZaUFyP2bDuI48TYNhNU9OErTCKbPjQW0Cgv7IMbuRWkbXgMl9pw==\\n<br>gorgon: 0mV3PHlqJvBhPmX4Hgwk5dIdaxivdStV_DXpeuJlTytC8dTcppnb8zZTEx2bTrgNjPzi9rK4BfKA4UbePFgCLXgOSGNRj2kpKJVU0jDMk9-u8_f1RedwfYgJKDbZAc-8Wy1uuTribGLs4dZlsGw2RTiYsO921uj-5FJ_0YI740HqCbEEEnDcHT_5_SiRIsjtZDc4NDM5MWJmNDI0YjRhMTk5ZjRkNDU1MjBkYjMxOTM=\\n<br>Host: druidv6.if.qidian.com\\n<br>Connection: Keep-Alive\\n<br>Accept-Encoding: gzip\\n<br>If-Modified-Since: Sun, 29 Jan 2023 10:15:46 GMT\\n<br>\\n<br><br><br><br><html>\\n<head>\\n    \\n</head>\\n<div>\\n\\n</div>\\n</html></div>\\n</div>'\n"
     ]
    }
   ],
   "source": [
    "for uid, message_data in server.fetch(messages, \"RFC822\").items():\n",
    "        message = email.message_from_bytes(message_data[b\"RFC822\"])\n",
    "        print(uid)\n",
    "        print(message.items())\n",
    "        print(message.get_filename())\n",
    "        print(message.get_payload())\n",
    "        print('== Email message =====')\n",
    "        # print(message)  # print FULL message\n",
    "        print('== Email details =====')\n",
    "        print(f'Subject: {message[\"subject\"]}')\n",
    "        print(f'From: {message[\"from\"]}')\n",
    "        print(f'To: {message[\"to\"]}')\n",
    "        print(f'Cc: {message[\"cc\"]}')\n",
    "        print(f'Bcc: {message[\"bcc\"]}')\n",
    "        print(f'Urgency (1 highest 5 lowest): {message[\"x-priority\"]}')\n",
    "        print(f'Object type: {type(message)}')\n",
    "        print(f'Content type: {message.get_content_type()}')\n",
    "        print(f'Content disposition: {message.get_content_disposition()}')\n",
    "        print(f'Multipart?: {message.is_multipart()}')\n",
    "        # If the message is multipart, it basically has multiple emails inside\n",
    "        # so you must extract each \"submail\" separately.\n",
    "        if message.is_multipart():\n",
    "                print('Multipart types:')\n",
    "                for part in message.walk():\n",
    "                        print(f'- {part.get_content_type()}')\n",
    "                multipart_payload = message.get_payload()\n",
    "                for sub_message in multipart_payload:\n",
    "                        print(sub_message.get_content_type())\n",
    "                        # The actual text/HTML email contents, or attachment data\n",
    "                        print(f'Payload\\n{sub_message.get_payload(decode=True)}')\n",
    "        else:  # Not a multipart message, payload is simple string\n",
    "                print(f'Payload\\n{message.get_payload()}')\n",
    "        # You could also use `message.iter_attachments()` to get attachments only"
   ]
  },
  {
   "cell_type": "code",
   "execution_count": 73,
   "metadata": {},
   "outputs": [],
   "source": [
    "for uid, message_data in server.fetch(messages, \"RFC822\").items():\n",
    "        message = email.message_from_bytes(message_data[b\"RFC822\"])\n",
    "        multipart_payload = message.get_payload()\n",
    "        for sub_message in multipart_payload:\n",
    "                if sub_message.get_content_type() == 'text/plain':\n",
    "                    # The actual text/HTML email contents, or attachment data\n",
    "                    content = sub_message.get_payload(decode=True)\n",
    "                    with open('./1.yml', 'wb') as f:\n",
    "                        f.write(content)"
   ]
  },
  {
   "cell_type": "code",
   "execution_count": 25,
   "metadata": {},
   "outputs": [],
   "source": [
    "import time\n",
    "class TimeTransformer:\n",
    "    def timestamp2struct_time(self, timestamp=time.time()):\n",
    "        return time.localtime(timestamp)\n",
    "\n",
    "    def struct_time2timestamp(self, struct_time=time.localtime()):\n",
    "        return time.mktime(struct_time)\n",
    "\n",
    "    def struct_time2str_time(self, format_st='%Y-%m-%d %H:%M:%S', struct_time=time.localtime()):\n",
    "        return time.strftime(format_st, struct_time)\n",
    "\n",
    "    def str_time2struct_time(self, format_st='%Y-%m-%d %H:%M:%S', str_time=None):\n",
    "        if str_time == None:\n",
    "            str_time = self.struct_time2str_time()\n",
    "        return time.strptime(str_time, format_st)\n",
    "\n",
    "    def timestamp2str_time(self, timestamp=time.time(), format_st='%Y-%m-%d %H:%M:%S'):\n",
    "        return self.struct_time2str_time(format_st, self.timestamp2struct_time(timestamp))\n",
    "\n",
    "    def str_time2timestamp(self, format_st='%Y-%m-%d %H:%M:%S', str_time=None):\n",
    "        if str_time == None:\n",
    "            str_time = self.struct_time2str_time()\n",
    "        return self.struct_time2timestamp(self.str_time2struct_time(format_st, str_time))\n",
    "\n",
    "    def GMTplus8(self, format_st, str_time):\n",
    "        return self.timestamp2str_time(self.str_time2timestamp(format_st, str_time) + 8 * 60 * 60)\n",
    "\n"
   ]
  },
  {
   "cell_type": "code",
   "execution_count": 3,
   "metadata": {},
   "outputs": [
    {
     "name": "stdout",
     "output_type": "stream",
     "text": [
      "2023-01-31 19:03:25\n"
     ]
    }
   ],
   "source": [
    "from src.TimeTransformer import TimeTransformer\n",
    "\n",
    "t = [\n",
    "    1675163005510\n",
    "]\n",
    "\n",
    "for i in t:\n",
    "    p = TimeTransformer().timestamp2str_time(i/1000)\n",
    "    print(p)"
   ]
  }
 ],
 "metadata": {
  "kernelspec": {
   "display_name": "Python 3.9.13 ('fff')",
   "language": "python",
   "name": "python3"
  },
  "language_info": {
   "codemirror_mode": {
    "name": "ipython",
    "version": 3
   },
   "file_extension": ".py",
   "mimetype": "text/x-python",
   "name": "python",
   "nbconvert_exporter": "python",
   "pygments_lexer": "ipython3",
   "version": "3.9.13"
  },
  "orig_nbformat": 4,
  "vscode": {
   "interpreter": {
    "hash": "85ed662edb1bb64ac9f7019362dcc1f64eb726c9a95334217aac7b5d9a2ea37f"
   }
  }
 },
 "nbformat": 4,
 "nbformat_minor": 2
}
